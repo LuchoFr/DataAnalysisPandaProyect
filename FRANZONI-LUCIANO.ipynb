{
  "nbformat": 4,
  "nbformat_minor": 0,
  "metadata": {
    "colab": {
      "name": "Copia de Enunciado.ipynb",
      "private_outputs": true,
      "provenance": [],
      "collapsed_sections": []
    },
    "kernelspec": {
      "name": "python3",
      "display_name": "Python 3"
    },
    "language_info": {
      "name": "python"
    }
  },
  "cells": [
    {
      "cell_type": "markdown",
      "source": [
        "# Proyecto 1\n",
        "*Numpy, pandas y matplotlib*\n",
        "\n",
        "Los archivos .csv de https://datos.gob.ar/dataset/otros-nombres-personas-fisicas contienen los nombres de las personas registradas en el Registro Nacional de las Personas desde 1920 a 2014.\n",
        "Utilice esta información para obtener los siguientes datos:\n",
        "- Año con mayor cantidad de personas registradas;\n",
        "- Nombre más popular en todo el rango de años;\n",
        "- Nombre más largo.\n",
        "\n",
        "Agregue información al dataset considerando lo siguiente:\n",
        "- Una columna con el número de palabras del nombre;\n",
        "- Una columna con el porcentaje de registro que ese nombre representa en ese año.\n",
        "\n",
        "Represente de la mejor forma posible la siguiente información:\n",
        "- Porcentaje de datos que cada año aportó al total de la información;\n",
        "- Evolución del registro de los nombres 'Maria' y 'Juan' (solamente, sin primeros ni segundos nombres, y sin tildes). Marcar cuál es el año donde más veces se registraron;\n",
        "- El nombre más popular en cada año.\n",
        "\n",
        "Nota: Tenga en cuenta el tipo de valores o la ausencia de datos para evitar que los resultados no sean los correspondientes. Utilice la documentación si requiere usar funciones o parámetros no vistos en clases.\n",
        "No se olvide de escribir el código de forma ordenada, entendible y comentado.\n",
        "\n",
        "\n",
        "**Entrega**\n",
        "Día: Domingo 15/05 inclusive\n",
        "\n",
        "Metodología: (Colab) Descargue el archivo haciendo click en 'Archivo'->'Descargar'->'Descargar .ipynb', renómbrelo con su apellido y nombre con el formato *apellido-nombre.ipynb* y adjuntelo en el formulario de Moodle."
      ],
      "metadata": {
        "id": "Kms_R0TUuXVl"
      }
    },
    {
      "cell_type": "markdown",
      "source": [
        "Instalo las Librerias *(verificado)*"
      ],
      "metadata": {
        "id": "Y_Au-Yfx3KMf"
      }
    },
    {
      "cell_type": "code",
      "source": [
        "!pip install matplotlib #instalo las librerias a utilizar \n",
        "!pip install seaborn\n",
        "!pip install pandas\n",
        "!pip install matplotlib\n",
        "import matplotlib.pyplot as plt\n",
        "import numpy as np\n",
        "import pandas as pd\n",
        "import seaborn as sns "
      ],
      "metadata": {
        "id": "g1u2DZnoFJCS"
      },
      "execution_count": null,
      "outputs": []
    },
    {
      "cell_type": "markdown",
      "source": [
        "Guardo los archivos a dataframe y hago un append para utilizar un solo dataframe total *(verificado)*"
      ],
      "metadata": {
        "id": "R2Vpe0ZYA5jV"
      }
    },
    {
      "cell_type": "code",
      "source": [
        "dataframe_1920= pd.read_csv('/content/drive/MyDrive/Colab Notebooks/Proyecto 1/nombres-1920-1924.csv') #leo los dataframe del archivo y los guardo en variables para luego anexarlos y crear un solo dataframe con todos los años\n",
        "dataframe_1925= pd.read_csv('/content/drive/MyDrive/Colab Notebooks/Proyecto 1/nombres-1925-1929.csv') #Aca se encuentran las rutas de acceso a los csv \n",
        "dataframe_1930= pd.read_csv('/content/drive/MyDrive/Colab Notebooks/Proyecto 1/nombres-1930-1934.csv') #los datataframe estan nombrados segun el anio en que comienzan\n",
        "dataframe_1935= pd.read_csv('/content/drive/MyDrive/Colab Notebooks/Proyecto 1/nombres-1935-1939.csv')\n",
        "dataframe_1940= pd.read_csv('/content/drive/MyDrive/Colab Notebooks/Proyecto 1/nombres-1940-1944.csv')\n",
        "dataframe_1945= pd.read_csv('/content/drive/MyDrive/Colab Notebooks/Proyecto 1/nombres-1945-1949.csv')\n",
        "dataframe_1950= pd.read_csv('/content/drive/MyDrive/Colab Notebooks/Proyecto 1/nombres-1950-1954.csv')\n",
        "dataframe_1955= pd.read_csv('/content/drive/MyDrive/Colab Notebooks/Proyecto 1/nombres-1955-1959.csv')\n",
        "dataframe_1960= pd.read_csv('/content/drive/MyDrive/Colab Notebooks/Proyecto 1/nombres-1960-1964.csv')\n",
        "dataframe_1965= pd.read_csv('/content/drive/MyDrive/Colab Notebooks/Proyecto 1/nombres-1965-1969.csv')\n",
        "dataframe_1970= pd.read_csv('/content/drive/MyDrive/Colab Notebooks/Proyecto 1/nombres-1970-1974.csv')\n",
        "dataframe_1975= pd.read_csv('/content/drive/MyDrive/Colab Notebooks/Proyecto 1/nombres-1975-1979.csv')\n",
        "dataframe_1980= pd.read_csv('/content/drive/MyDrive/Colab Notebooks/Proyecto 1/nombres-1980-1984.csv')\n",
        "dataframe_1985= pd.read_csv('/content/drive/MyDrive/Colab Notebooks/Proyecto 1/nombres-1985-1989.csv')\n",
        "dataframe_1990= pd.read_csv('/content/drive/MyDrive/Colab Notebooks/Proyecto 1/nombres-1990-1994.csv')\n",
        "dataframe_1995= pd.read_csv('/content/drive/MyDrive/Colab Notebooks/Proyecto 1/nombres-1995-1999.csv')\n",
        "dataframe_2000= pd.read_csv('/content/drive/MyDrive/Colab Notebooks/Proyecto 1/nombres-2000-2004.csv')\n",
        "dataframe_2005= pd.read_csv('/content/drive/MyDrive/Colab Notebooks/Proyecto 1/nombres-2005-2009.csv')\n",
        "dataframe_2010= pd.read_csv('/content/drive/MyDrive/Colab Notebooks/Proyecto 1/nombres-2010-2014.csv')\n",
        "dataframe_2015= pd.read_csv('/content/drive/MyDrive/Colab Notebooks/Proyecto 1/nombres-2015.csv')\n",
        "\n",
        "dataframe_total= dataframe_1920 #Le asigno el primer dataframe (el del anio 1920 para luego hacer append de los otros)\n",
        "dataframe_total= dataframe_total.append(dataframe_1925, ignore_index=True)\n",
        "dataframe_total= dataframe_total.append(dataframe_1930, ignore_index=True)\n",
        "dataframe_total= dataframe_total.append(dataframe_1935, ignore_index=True)\n",
        "dataframe_total= dataframe_total.append(dataframe_1940, ignore_index=True)\n",
        "dataframe_total= dataframe_total.append(dataframe_1945, ignore_index=True)\n",
        "dataframe_total= dataframe_total.append(dataframe_1950, ignore_index=True)\n",
        "dataframe_total= dataframe_total.append(dataframe_1955, ignore_index=True)\n",
        "dataframe_total= dataframe_total.append(dataframe_1960, ignore_index=True)\n",
        "dataframe_total= dataframe_total.append(dataframe_1965, ignore_index=True)\n",
        "dataframe_total= dataframe_total.append(dataframe_1970, ignore_index=True)\n",
        "dataframe_total= dataframe_total.append(dataframe_1975, ignore_index=True)\n",
        "dataframe_total= dataframe_total.append(dataframe_1980, ignore_index=True)\n",
        "dataframe_total= dataframe_total.append(dataframe_1985, ignore_index=True)\n",
        "dataframe_total= dataframe_total.append(dataframe_1990, ignore_index=True)\n",
        "dataframe_total= dataframe_total.append(dataframe_1995, ignore_index=True)\n",
        "dataframe_total= dataframe_total.append(dataframe_2000, ignore_index=True)\n",
        "dataframe_total= dataframe_total.append(dataframe_2005, ignore_index=True)\n",
        "dataframe_total= dataframe_total.append(dataframe_2010, ignore_index=True)\n",
        "dataframe_total= dataframe_total.append(dataframe_2015, ignore_index=True)\n",
        "\n",
        "#print(dataframe_total) #verifique el proceso de carga imprimiendo y viendo el valor del ultimo durante cada append para que no se perdiera informacion\n",
        "\n",
        "\n"
      ],
      "metadata": {
        "id": "nYnErnZE3NyS"
      },
      "execution_count": null,
      "outputs": []
    },
    {
      "cell_type": "markdown",
      "source": [
        "Consignas de obtencion de informacion \n",
        "\n",
        "-Año con mayor cantidad de personas registradas;\n",
        "\n",
        "-Nombre más popular en todo el rango de años;\n",
        "*(verificado)*"
      ],
      "metadata": {
        "id": "Ipap7_ITGuYb"
      }
    },
    {
      "cell_type": "code",
      "source": [
        "#anio con mayor cantidad de personas registradas\n",
        "anio_maxregistro= dataframe_total.groupby('anio')['cantidad'].sum() #agrupo los valores por anio y que con la cantidad hago la suma\n",
        "anio_maxregistro= anio_maxregistro.sort_values(ascending=False) #ordeno los valores obtenidos de forma descendente\n",
        "anio_maxregistro= anio_maxregistro.head(1) #obtengo el primer valor\n",
        "anio_maxregistro= anio_maxregistro.reset_index() #reindexo\n",
        "\n",
        "print('El anio con mayor cantidad de registros fue el anio: ', anio_maxregistro.iloc[0,0], 'con un total de: ', anio_maxregistro.iloc[0,1], ' registros') #imprimo en pantalla la informacion\n",
        "print() #separo la informacion mostrada\n",
        "\n",
        "#nombre mas popular en todo el rango de anios\n",
        "\n",
        "nombre_popular= dataframe_total.groupby('nombre')['cantidad'].sum() #agrego los valores por nombre y con la cantidad hago la suma \n",
        "nombre_popular= nombre_popular.sort_values(ascending=False) #ordeno los valores de forma descendente\n",
        "nombre_popular= nombre_popular.head(1) #saco el primer valor\n",
        "nombre_popular= nombre_popular.reset_index() #reindexo\n",
        "\n",
        "print('El nombre mas popular es: ', nombre_popular.iloc[0,0], ' y fue registrado: ', nombre_popular.iloc[0,1], ' veces') #muestro el nombre mas registrado y la cantidad de veces \n",
        "print() #separo la informacion mostrada\n",
        "\n"
      ],
      "metadata": {
        "id": "PKuRchABHCfm"
      },
      "execution_count": null,
      "outputs": []
    },
    {
      "cell_type": "markdown",
      "source": [
        "\n",
        "-Nombre más largo (este proceso lo deje separado porque demora bastante en aplicar la eliminacion de simbolos, espacios y numeros de los nombres) *(verificado)*"
      ],
      "metadata": {
        "id": "hn7RfnMEOygX"
      }
    },
    {
      "cell_type": "code",
      "source": [
        "def eliminasimbolo(fila): #elimino los simbolos y los numeros y dejo solo caracteres que sean del alfabeto en los nombres\n",
        "  nombre_filtrado=str(fila.loc[\"nombre\"]) #selecciono el nombre de la fila\n",
        "  nombre_filtrado=''.join(filter(str.isalnum, nombre_filtrado)) #utilizo la funcion filter junto a isalnum para dejar en el nombre solo valores alfanumericos (también elimina los espacios)\n",
        "  nombre_filtrado= ''.join([i for i in nombre_filtrado if not i.isdigit()]) #Elimino los numeros en caso de existir\n",
        "  cant_caracteres=len(nombre_filtrado) #una vez filtrado las inocurrencias en los nombres cuento la cantidad de caracteres que existen en cada uno de los nombres\n",
        "  return cant_caracteres\n",
        "\n",
        "dataframe_cantcaracteres=dataframe_total.copy(deep=True) #creo una copia del dataframe total para trabajar utilizando deep = True para que la informacion del dataframe copia no se vea reflejada en el total\n",
        "\n",
        "dataframe_cantcaracteres['cantidad de caracteres'] = dataframe_cantcaracteres.apply(eliminasimbolo, axis=1) #aplico la funcion creada\n",
        "\n",
        "#print(dataframe_cantcaracteres) #para visualizar el dataframe con los valores "
      ],
      "metadata": {
        "id": "Lpp-wLpYLhI5"
      },
      "execution_count": null,
      "outputs": []
    },
    {
      "cell_type": "code",
      "source": [
        "nombre_maslargo= dataframe_cantcaracteres.sort_values(by=[\"cantidad de caracteres\"], ascending=False) #ordeno los valores obtenidos de forma descendente\n",
        "nombre_maslargo= nombre_maslargo.reset_index() #reindexo\n",
        "nombre_maslargo= nombre_maslargo.head(1) #obtengo el primer valor\n",
        "#print(nombre_maslargo) #para verificar el resultado antes de procesarlo\n",
        "\n",
        "print('El nombre mas largo registrado es: ', nombre_maslargo.iloc[0,1], 'con un total de: ', nombre_maslargo.iloc[0,4], ' caracteres')"
      ],
      "metadata": {
        "id": "glf6f6xNPKCB"
      },
      "execution_count": null,
      "outputs": []
    },
    {
      "cell_type": "markdown",
      "source": [
        "Agregue información al dataset considerando lo siguiente:\n",
        "\n",
        "Una columna con el número de palabras del nombre;\n",
        "\n",
        "Una columna con el porcentaje de registro que ese nombre representa en ese año.*(verificado)*"
      ],
      "metadata": {
        "id": "6HZRH1QzU-TB"
      }
    },
    {
      "cell_type": "code",
      "source": [
        "#Agregar una columna con el número de palabras del nombre\n",
        "\n",
        "def cuentapalabras(fila): #creamos una funcion que cuente palabras separadas por un \" \"\n",
        " cantidadpalabras= len(str(fila.loc[\"nombre\"]).split())\n",
        " return cantidadpalabras\n",
        "\n",
        "dataframe_cantpalabras= dataframe_total #creamos la copia del dataframe no pongo el comando .copy ya que como la consigna es agregar esa informacion al dataset dejo el nuevo referenciado al original para que la columna agregada tambien quede reflejada en el dataframe total\n",
        "dataframe_cantpalabras[\"cantidad de palabras\"]= dataframe_cantpalabras.apply(cuentapalabras, axis=1)\n",
        "\n",
        "\n",
        "print(dataframe_cantpalabras)\n"
      ],
      "metadata": {
        "id": "8SYyAWa2U70s"
      },
      "execution_count": null,
      "outputs": []
    },
    {
      "cell_type": "code",
      "source": [
        "dataframe_porcentaje= dataframe_cantpalabras #creo el dataframe con los datos anteriores como esta referenciado al dataframe_total es una copia del total con la columna del ultimo ejercicio agregada\n",
        "cant_totalregistros= dataframe_total.groupby('anio')['cantidad'].sum() #creo un groupby con el total de registros por anios para utilizar dentro de la funcion para calculo de porcentaje\n",
        "def porcentaje(fila): #creo la funcion que calcula porcentaje\n",
        " porcentaje= (fila.loc[\"cantidad\"]/cant_totalregistros[fila.loc[\"anio\"]])*100 #utilizo los datos para hacer el caculo\n",
        " return porcentaje\n",
        "\n",
        "dataframe_porcentaje[\"porcentaje del nombre sobre el total durante el anio\"]= dataframe_porcentaje.apply(porcentaje, axis=1)\n",
        "print(dataframe_porcentaje) #esta referenciado al dataframe_total por consiguiente son el mismo dataframe"
      ],
      "metadata": {
        "id": "O47wAN7HicVD"
      },
      "execution_count": null,
      "outputs": []
    },
    {
      "cell_type": "code",
      "source": [
        "# print(cant_totalregistros) utilice esta linea para verificar la cantidad total y corroborar con el primer dato de que el calculo era correcto "
      ],
      "metadata": {
        "id": "xPBZVqv4lc6M"
      },
      "execution_count": null,
      "outputs": []
    },
    {
      "cell_type": "markdown",
      "source": [
        " Porcentaje de datos que cada año aportó al total de la información; (Aclaración: Como es un gráfico por porcentaje total lo mas común seria hacer un grafico de torta, pero como este deberiía dvividirse por el total de años que son mas de 90 la información no quedaria prolija, por consiguiente decidi hacer un grafico de barras) (*verificado*)\n",
        "\n"
      ],
      "metadata": {
        "id": "UhcjQhSgm3oD"
      }
    },
    {
      "cell_type": "code",
      "source": [
        "cant_totalregistros= dataframe_total.groupby('anio')['cantidad'].sum() #creo el groupby agrupado por anio y la suma de la cantidad por anio\n",
        "cant_totalregistros= cant_totalregistros.reset_index()#reseteo el indice para poder utilizar la columna cantidad\n",
        "total=cant_totalregistros[\"cantidad\"].sum() #calculo el total para hacer el procentual\n",
        "def calcporcen(fila): #creo la funcion que calcula el porcentaje\n",
        "  porcentaje=(fila.loc[\"cantidad\"]/total)*100\n",
        "  return porcentaje\n",
        "\n",
        "cant_totalregistros[\"porcentaje\"]=cant_totalregistros.apply(calcporcen,axis=1) #agrego la columna con el porcentaje que representa este año en el aporte total\n",
        "\n",
        "plt.figure(figsize=(20,20))\n",
        "x=cant_totalregistros[\"anio\"] #establezco los valores de x e y para el grafico\n",
        "y=cant_totalregistros[\"porcentaje\"]\n",
        "plt.bar(x,y)\n",
        "plt.title(\"Porcentaje de aporte de registros por año sobre el total\", size=20) #agrego el titulo del grafico\n",
        "plt.xlabel(\"Años\",size=15) #agrego el titulo del eje x \n",
        "plt.ylabel(\"Porcentaje sobre el total\",size=15) #agrego el titulo del eje y\n",
        "plt.grid(True) #coloco la grilla \n",
        "plt.xticks(ticks=x,rotation=90) #coloco los valores de equis y los roto 90 grados \n",
        "plt.show()\n"
      ],
      "metadata": {
        "id": "cZNi2f6XnWRJ"
      },
      "execution_count": null,
      "outputs": []
    },
    {
      "cell_type": "markdown",
      "source": [
        "Evolución del registro de los nombres 'Maria' y 'Juan' (solamente, sin primeros ni segundos nombres, y sin tildes). Marcar cuál es el año donde más veces se registraron; *(verificado)*"
      ],
      "metadata": {
        "id": "JUXkVGKfW5Pa"
      }
    },
    {
      "cell_type": "code",
      "source": [
        "dataframe_j = dataframe_total.loc[dataframe_total.nombre == \"Juan\"] #creo el dataframe unicamente con Juan y sin tildes y sin segunos nombres\n",
        "dataframe_m= dataframe_total.loc[dataframe_total.nombre == \"Maria\"] #creo el dataframe unicamente con Maria sin tildes y sin segundos nombres. Los hice por separado para usar cada uno con el grafico correspondiente\n",
        "dataframe_jmax= dataframe_j.sort_values(by=[\"cantidad\"], ascending=False) #del dataframe del nombre Juan lo ordeno por cantidad maxima descendente\n",
        "dataframe_jmax= dataframe_jmax.reset_index() #reindexo\n",
        "dataframe_jmax= dataframe_jmax.head(1) #me quedo con el primer valor\n",
        "dataframe_mmax= dataframe_m.sort_values(by=[\"cantidad\"], ascending=False) #del dataframe del nombre Maria lo ordeno por cantidad maxima descendente\n",
        "dataframe_mmax= dataframe_mmax.reset_index() #reindexo\n",
        "dataframe_mmax= dataframe_mmax.head(1) #me quedo con el primer valor\n",
        "\n",
        "#proceso para los juan\n",
        "y1j= dataframe_j.loc[(dataframe_j.anio <= 1953)&(1922 <= dataframe_j.anio)] #divido el dataframe con los valores Juan en 3 para que abarquen los años en los q dividi los graficos ya que los graficos de barra aceptan hasta 32 argumentos y se cotejen bien los datos\n",
        "x1j=y1j[\"anio\"] #selecciono la subdivision de anios\n",
        "y1j= y1j[\"cantidad\"] #selecciono la subdivisiones de cantidad\n",
        "\n",
        "y2j= dataframe_j.loc[(dataframe_j.anio <= 1985)&(1954 <= dataframe_j.anio)]\n",
        "x2j=y2j[\"anio\"]\n",
        "y2j= y2j[\"cantidad\"] #idem anterior\n",
        "\n",
        "y3j=dataframe_j.loc[(dataframe_j.anio <= 2015)&(1986 <= dataframe_j.anio)]\n",
        "x3j=y3j[\"anio\"]\n",
        "y3j=y3j[\"cantidad\"] #idem anterior \n",
        "\n",
        "xjmax=dataframe_jmax.iloc[0,3] #asigno los valores maximos\n",
        "yjmax=dataframe_jmax.iloc[0,2]\n",
        "\n",
        "#proceso para las marias\n",
        "y1m= dataframe_m.loc[(dataframe_m.anio <= 1953)&(1922 <= dataframe_m.anio)] #divido el dataframe con los valores Juan en 3 para que abarquen los años en los q dividi los graficos ya que los graficos de barra aceptan hasta 32 argumentos y se cotejen bien los datos\n",
        "x1m=y1m[\"anio\"] #selecciono la subdivision de anios\n",
        "y1m= y1m[\"cantidad\"] #selecciono la subdivisiones de cantidad\n",
        "\n",
        "y2m= dataframe_m.loc[(dataframe_m.anio <= 1985)&(1954 <= dataframe_m.anio)]\n",
        "x2m=y2m[\"anio\"]\n",
        "y2m= y2m[\"cantidad\"] #idem anterior\n",
        "\n",
        "y3m=dataframe_m.loc[(dataframe_m.anio <= 2015)&(1986 <= dataframe_m.anio)]\n",
        "x3m=y3m[\"anio\"]\n",
        "y3m=y3m[\"cantidad\"] #idem anterior \n",
        "\n",
        "xmmax=dataframe_mmax.iloc[0,3]\n",
        "ymmax=dataframe_mmax.iloc[0,2]\n",
        "\n",
        "figure, axis = plt.subplots(2, 3) # establezco una figura para modificar los parametros y hacer subplots \n",
        "figure.set_size_inches((50,30))\n",
        "figure.suptitle(\"Evolucion del registro de los nombres Juan y Maria\",size=50)\n",
        "\n",
        "axis[0,1].set_title(\"Evolucion del nombre Juan\",size=30) #grafico la informacion del nombre Juan\n",
        "axis[0,1].set_xlabel(\"Años\",size=20) #agrego la etiqueta años al eje de las x \n",
        "axis[0,1].set_ylabel(\"Cantidad de registros\",size=20) #Agrego la etiqueta al eje de las y\n",
        "axis[0,0].bar(x1j, y1j)\n",
        "axis[0,1].bar(x2j,y2j)\n",
        "axis[0,2].bar(x3j,y3j)\n",
        "axis[0,0].scatter(xjmax, yjmax+100, color=\"red\") #le sumo 100 al valor max de cantidad que se vea en el grafico mejor\n",
        "\n",
        "axis[1,1].set_title(\"Evolucion del nombre Maria\",size=30) #grafico la informacion del nombre Maria\n",
        "axis[1,1].set_xlabel(\"Años\",size=20) #agrego la etiqueta años al eje de las x \n",
        "axis[1,1].set_ylabel(\"Cantidad de registros\",size=20) #Agrego la etiqueta al eje de las y\n",
        "axis[1,0].bar(x1m, y1m,color=\"pink\") #asingo otro color para que se diferencie \n",
        "axis[1,1].bar(x2m,y2m,color=\"pink\")\n",
        "axis[1,2].bar(x3m,y3m,color=\"pink\")\n",
        "axis[1,0].scatter(xmmax, ymmax+100, color=\"red\") #le sumo 100 al valor max de cantidad que se vea en el grafico mejor\n",
        "\n",
        "\n",
        "plt.show()"
      ],
      "metadata": {
        "id": "bzZeN8QhFhQE"
      },
      "execution_count": null,
      "outputs": []
    },
    {
      "cell_type": "markdown",
      "source": [
        "\n",
        "El nombre más popular en cada año. *(verificado)*"
      ],
      "metadata": {
        "id": "01KWMCi6XK-b"
      }
    },
    {
      "cell_type": "code",
      "source": [
        "dataframe_totalordenado = dataframe_total.sort_values(by = ['anio', 'cantidad'], ascending=False) # Ordenarlo el dataframe total por anio y luego cantidad de forma descendente (el dataframe ya esta asi por defecto pero dejo el paso para justificar las siguientes lineas)\n",
        "l_anios=dataframe_total[\"anio\"].unique() #creo una lista con el total de los anios \n",
        "\n",
        "nombre_popularporanio=pd.DataFrame() #creo un dataframe vacio \n",
        "\n",
        "for i in l_anios: #itero con los anios en la lista ingresar al dataframe total ordenado y conseguir la informacion de los prmeros valores por anio\n",
        "  nombre_popularporanio= nombre_popularporanio.append(dataframe_totalordenado.loc[dataframe_totalordenado.anio==i].head(1), ignore_index=True) #voy agregando a el dataframe vacio ingresando por anio y sacando la cabecera de cada anio\n",
        "\n",
        "#la informacion de el dataframe creado esta desde 1922 hasta 2015\n",
        "\n",
        "nombre_popularporanio=nombre_popularporanio.drop(['cantidad',\"cantidad de palabras\",\"porcentaje del nombre sobre el total durante el anio\"], axis=1) #elimino las columnas que no me interesan para crear la tabla\n",
        "fig, ax =plt.subplots(1,1) #creo la figura\n",
        "column_labels=[\"Nombre\",\"Año\"]\n",
        "ax.axis('tight')\n",
        "ax.axis('off')\n",
        "ax.table(cellText=nombre_popularporanio.values,colLabels=column_labels, colColours =[\"yellow\"] * 94,loc=\"center\") #le doy formato a la tabla\n",
        "plt.show()\n",
        "\n",
        "\n",
        "\n"
      ],
      "metadata": {
        "id": "kcoFfKXKf9Jf"
      },
      "execution_count": null,
      "outputs": []
    }
  ]
}